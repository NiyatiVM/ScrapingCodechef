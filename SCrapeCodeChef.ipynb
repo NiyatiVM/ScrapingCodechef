{
  "nbformat": 4,
  "nbformat_minor": 0,
  "metadata": {
    "colab": {
      "name": "Untitled",
      "provenance": [],
      "authorship_tag": "ABX9TyPi/OBBDvksWmfn1wTqmqwQ",
      "include_colab_link": true
    },
    "kernelspec": {
      "name": "python3",
      "display_name": "Python 3"
    }
  },
  "cells": [
    {
      "cell_type": "markdown",
      "metadata": {
        "id": "view-in-github",
        "colab_type": "text"
      },
      "source": [
        "<a href=\"https://colab.research.google.com/github/NiyatiVM/ScrapingCodechef/blob/master/SCrapeCodeChef.ipynb\" target=\"_parent\"><img src=\"https://colab.research.google.com/assets/colab-badge.svg\" alt=\"Open In Colab\"/></a>"
      ]
    },
    {
      "cell_type": "code",
      "metadata": {
        "colab_type": "code",
        "outputId": "677ba188-e67a-4e76-c978-f6d3d34840c2",
        "id": "8zUIS4zD3NRM",
        "colab": {
          "base_uri": "https://localhost:8080/",
          "height": 1000
        }
      },
      "source": [
        "import requests \n",
        "from bs4 import BeautifulSoup \n",
        "def ps():\n",
        "  firsturl='https://www.codechef.com/problems/school'\n",
        "  respone=requests.get(firsturl)\n",
        "  if respone.status_code==200:\n",
        "    print(\"Successfully opened the first web page\")\n",
        "    print(\"The problem codes are as follows :-\\n\")\n",
        "    soupone=BeautifulSoup(respone.content,'html.parser')\n",
        "    #print(soupone.prettify)\n",
        "    #table=soupone.find(\"table\").find(\"tbody\").find('td')\n",
        "    table=soupone.find_all(\"div\",{'class':'problemname'})\n",
        "    new=[]\n",
        "    for t in table:\n",
        "      new.append(t.find(\"a\").get('href'))\n",
        "    print(new)\n",
        "  url='https://www.codechef.com'+new[0]\n",
        "  resp=requests.get(url)\n",
        "  if resp.status_code==200:\n",
        "    print(\"Successfully opened the web page\")\n",
        "    print(\"The problem are as follow :-\\n\")\n",
        "    soup=BeautifulSoup(resp.content,'html.parser')\n",
        "    all=soup.find_all(\"div\",attrs={\"class\":\"content\"})\n",
        "    a=all[1].text\n",
        "    b=a.replace('$','')\n",
        "    b=b.replace('\\le','<=').replace('\\ldots','...').replace('- ','').replace(\"```\",\"\\n\")\n",
        "    print(b)\n",
        "  else:\n",
        "    print(\"Error\")\n",
        "ps()"
      ],
      "execution_count": 56,
      "outputs": [
        {
          "output_type": "stream",
          "text": [
            "Successfully opened the first web page\n",
            "The problem codes are as follows :-\n",
            "\n",
            "['/problems/TRAINSET', '/problems/SAFEROBO', '/problems/ISHVALA', '/problems/PIPSQUIK', '/problems/HRDSEQ', '/problems/DISCSHOP', '/problems/MXCH', '/problems/GVAWAY', '/problems/WALKFAST', '/problems/SC31', '/problems/USANBOLT', '/problems/CMPRSS', '/problems/VILLINE', '/problems/CHEFINSQ', '/problems/BRKBKS', '/problems/BSTOPS', '/problems/CHFCHK', '/problems/PLMU', '/problems/H1', '/problems/HIT', '/problems/CHEALG', '/problems/UCL', '/problems/RGAME', '/problems/SPAMCLAS', '/problems/CHRL4', '/problems/MEDIC', '/problems/FIBEASY', '/problems/EXUNA', '/problems/WATSCORE', '/problems/PCJ18C', '/problems/ZUBTRCNT', '/problems/PINS', '/problems/KCHESS', '/problems/SMRSTR', '/problems/ADASTAIR', '/problems/EVENT', '/problems/QUALPREL', '/problems/TYPING', '/problems/PROXYC', '/problems/DEPCHEF', '/problems/BITOBYT', '/problems/ADAKNG', '/problems/KS2', '/problems/CPAIRS', '/problems/REDONE', '/problems/CATFEED', '/problems/MGCSET', '/problems/TRACE', '/problems/CAMPON', '/problems/CLFIBD', '/problems/REACTION', '/problems/CEQUAL', '/problems/SURVIVE', '/problems/GIT01', '/problems/COKE', '/problems/CHNUM', '/problems/DIET', '/problems/CHFM', '/problems/DSTAPLS', '/problems/TRUEDARE', '/problems/L56GAME', '/problems/CHNGIT', '/problems/XORNEY', '/problems/ZUBREACH', '/problems/CHEFCHR', '/problems/CHFAR', '/problems/EID2', '/problems/NUMCOMP', '/problems/CSUM', '/problems/HMAPPY2', '/problems/RD19', '/problems/VALIDSTK', '/problems/KOL16B', '/problems/KFIB', '/problems/MDL', '/problems/BFTT', '/problems/XORAGN', '/problems/HILLS', '/problems/COUPSYS', '/problems/CFMM', '/problems/PAJAPONG', '/problems/SEBIHWY', '/problems/TWEED', '/problems/SPELLBOB', '/problems/CHFIDEAL', '/problems/VILTRIBE', '/problems/NOMATCH', '/problems/MAXREM', '/problems/MAX2', '/problems/CHEFWORK', '/problems/BIT2A', '/problems/LIFELTD', '/problems/BIGSALE', '/problems/ALEXTASK', '/problems/EXAM1', '/problems/NAICHEF', '/problems/MAGICHF', '/problems/TSTROBOT', '/problems/PROC18A', '/problems/CHSERVE', '/problems/ISITCAKE', '/problems/FANCY', '/problems/LTM40AB', '/problems/CHFTIRED', '/problems/SINS', '/problems/ORDTEAMS', '/problems/PPATTERN', '/problems/PCJ18A', '/problems/CHEGLOVE', '/problems/EID', '/problems/RNDPAIR', '/problems/LIKECS01', '/problems/AVG', '/problems/LISDIGIT', '/problems/MSNSADM1', '/problems/ENTEXAM', '/problems/KOL16J', '/problems/CHEFAPAR', '/problems/ATTND', '/problems/FBMT', '/problems/ENCMSG', '/problems/C00K0FF', '/problems/LADDU', '/problems/RPD', '/problems/CNDLOVE', '/problems/PLAYSTR', '/problems/CHEFDETE', '/problems/CHNGOR', '/problems/NW1', '/problems/SNELECT', '/problems/CHFINTRO', '/problems/CHEFRUN', '/problems/CODERLIF', '/problems/THREEFR', '/problems/PCJ18B', '/problems/ACBALL', '/problems/MATPAN', '/problems/JDELAY', '/problems/FRK', '/problems/XENTASK', '/problems/MATCHES', '/problems/CHEFROUT', '/problems/CLIPLX', '/problems/ADACRA', '/problems/PLAYPIAN', '/problems/LCOLLIS', '/problems/SEGM01', '/problems/GOODBAD', '/problems/QUADROOT', '/problems/CV', '/problems/DEVARRAY', '/problems/ICL1902', '/problems/COOMILK', '/problems/STRLBP', '/problems/BRLADDER', '/problems/NITIKA', '/problems/NOTINCOM', '/problems/EGRANDR', '/problems/PERFCONT', '/problems/GOODSET', '/problems/WDTBAM', '/problems/CHEFSUM', '/problems/CK87MEDI', '/problems/TABLET', '/problems/CO92JUDG', '/problems/CHN15A', '/problems/CHCHCL', '/problems/ADASCOOL', '/problems/UTMOPR', '/problems/OMWG', '/problems/TEMPLELA', '/problems/BUGCAL', '/problems/FLOW015', '/problems/SNAKPROC', '/problems/LOSTMAX', '/problems/ANKTRAIN', '/problems/URCALC', '/problems/CHRL2', '/problems/PRGIFT', '/problems/BRACKETS', '/problems/TTENIS', '/problems/ELEVSTRS', '/problems/CHEFSTUD', '/problems/TICKETS5', '/problems/CUTBOARD', '/problems/SIMPSTAT', '/problems/TALAZY', '/problems/SIMDISH', '/problems/STICKS', '/problems/CCOOK', '/problems/DWNLD', '/problems/STRPALIN', '/problems/DEVUGRAP', '/problems/ATM2', '/problems/SUBINC', '/problems/CATSDOGS', '/problems/SNCKYEAR', '/problems/TWONMS', '/problems/CANDY123', '/problems/COLOR', '/problems/ALPHABET', '/problems/HOWMANY', '/problems/MOVIEWKN', '/problems/CHEFSQ', '/problems/CFRTEST', '/problems/AREAPERI', '/problems/RAINBOWA', '/problems/RRJOKE', '/problems/CHEFARRP', '/problems/ALTARAY', '/problems/VCS', '/problems/VOWELTB', '/problems/LONGSEQ', '/problems/TWOVSTEN', '/problems/KTTABLE', '/problems/RECTANGL', '/problems/RECTSQ', '/problems/FRGTNLNG', '/problems/MISSP', '/problems/CHN09', '/problems/LCH15JAB', '/problems/TRICOIN', '/problems/MNMX', '/problems/TWOSTR', '/problems/POTATOES', '/problems/COPS', '/problems/FRUITS', '/problems/DIFFSUM', '/problems/CHEFSTLT', '/problems/TWTCLOSE', '/problems/GDOG', '/problems/COMM3', '/problems/FLOW014', '/problems/HEADBOB', '/problems/FLOW011', '/problems/DECINC', '/problems/PPSUM', '/problems/FLOW016', '/problems/ONP', '/problems/FLOW009', '/problems/SMPAIR', '/problems/LAPIN', '/problems/TRISQ', '/problems/FLOW010', '/problems/RECIPE', '/problems/PRB01', '/problems/PERMUT2', '/problems/PALL01', '/problems/AMR15A', '/problems/SUMTRIAN', '/problems/FLOW013', '/problems/FLOW005', '/problems/CHOPRT', '/problems/FLOW008', '/problems/REMISS', '/problems/FLOW018', '/problems/FLOW017', '/problems/CIELRCPT', '/problems/FSQRT', '/problems/MUFFINS3', '/problems/FLOW007', '/problems/LUCKFOUR', '/problems/TLG', '/problems/FLOW004', '/problems/TSORT', '/problems/FLOW002', '/problems/START01', '/problems/FLOW006', '/problems/FCTRL2', '/problems/FLOW001', '/problems/INTEST', '/problems/HS08TEST']\n",
            "Successfully opened the web page\n",
            "The problem are as follow :-\n",
            "\n",
            "\n",
            "All submissions for this problem are available.You are given a dataset consisting of N items. Each item is a pair of a word and a boolean denoting whether the given word is a spam word or not.\n",
            "\n",
            "We want to use this dataset for training our latest machine learning model. Thus we want to choose some subset of this dataset as training dataset. We want to make sure that there are no contradictions in our training set, i.e. there shouldn't be a word included in the training set that's marked both as spam and not-spam. For example item {\"fck\", 1}, and item {\"fck, 0\"} can't be present in the training set, because first item says the word \"fck\" is a spam, whereas the second item says it is not, which is a contradiction.\n",
            "\n",
            "Your task is to select the maximum number of items in the training set.\n",
            "\n",
            "Note that same pair of {word, bool} can appear multiple times in input. The training set can also contain the same pair multiple times.\n",
            "\n",
            "### Input\n",
            "First line will contain T, number of test cases. Then the test cases follow.\n",
            "The first line of each test case contains a single integer N.\n",
            "N lines follow. For each valid i, the i-th of these lines contains a string w_i, followed by a space and an integer(boolean) s_i, denoting the i-th item.\n",
            "\n",
            "### Output\n",
            "For each test case, output an integer corresponding to the maximum number of items that can be included in the training set in a single line.\n",
            "\n",
            "### Constraints\n",
            "1 <= T <= 10\n",
            "1 <= N <= 25,000\n",
            "1 <= |w_i| <= 5 for each valid i\n",
            "0 <= s_i <= 1 for each valid i\n",
            "w_1, w_2, ..., w_N contain only lowercase English letters\n",
            "\n",
            "### Example Input\n",
            "\n",
            "\n",
            "3\n",
            "3\n",
            "abc 0\n",
            "abc 1\n",
            "efg 1\n",
            "7\n",
            "fck 1\n",
            "fck 0\n",
            "fck 1\n",
            "body 0\n",
            "body 0\n",
            "body 0\n",
            "ram 0\n",
            "5\n",
            "vv 1\n",
            "vv 0\n",
            "vv 0\n",
            "vv 1\n",
            "vv 1\n",
            "\n",
            "\n",
            "\n",
            "### Example Output\n",
            "\n",
            "\n",
            "2\n",
            "6\n",
            "3\n",
            "\n",
            "\n",
            "\n",
            "### Explanation\n",
            "**Example case 1:** You can include either of the first and the second item, but not both. The third item can also be taken. This way the training set can contain at the very max 2 items.\n",
            "\n",
            "**Example case 2:** You can include all the items except the second item in the training set.    \n"
          ],
          "name": "stdout"
        }
      ]
    },
    {
      "cell_type": "code",
      "metadata": {
        "id": "i_ayCD0ya9OT",
        "colab_type": "code",
        "colab": {}
      },
      "source": [
        ""
      ],
      "execution_count": 0,
      "outputs": []
    }
  ]
}